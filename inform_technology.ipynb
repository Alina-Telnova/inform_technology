{
 "cells": [
  {
   "cell_type": "markdown",
   "id": "2edb65e8-388f-4983-9256-c0faf620538c",
   "metadata": {},
   "source": [
    "1. Write a Python program to read each row from a given csv file and print a list of strings."
   ]
  },
  {
   "cell_type": "code",
   "execution_count": 2,
   "id": "ed1ec2bb-1d7e-4863-b94a-1e9d0c16e511",
   "metadata": {},
   "outputs": [
    {
     "name": "stdout",
     "output_type": "stream",
     "text": [
      "department_id,department_name,manager_id,location_id\n",
      "10,Administration,200,1700\n",
      "20,Marketing,201,1800\n",
      "30,Purchasing,114,1700\n",
      "40,HumanResources,203,2400\n",
      "50,Shipping,121,1500\n",
      "60,IT,103,1400\n",
      "70,PublicRelations,204,2700\n",
      "80,Sales,145,2500\n"
     ]
    }
   ],
   "source": [
    "import csv\n",
    "with open('departments.csv', newline='') as csvfile:\n",
    " data = csv.reader(csvfile, delimiter=' ', quotechar='|')\n",
    " for row in data:\n",
    "   print(''.join(row))"
   ]
  },
  {
   "cell_type": "markdown",
   "id": "4ec745ed-8e0e-4190-9e11-46d6077fa0bf",
   "metadata": {},
   "source": [
    "2. Write a Python program to read a given CSV file having tab delimiter.\n"
   ]
  },
  {
   "cell_type": "code",
   "execution_count": 6,
   "id": "a8b08c11-90b9-4650-8170-bdcd70b6af02",
   "metadata": {},
   "outputs": [
    {
     "name": "stdout",
     "output_type": "stream",
     "text": [
      "department_id, department_name,  manager_id,  location_id\n",
      "10, Administration, 200, 1700\n",
      "20, Marketing, 201, 1800\n",
      "30, Purchasing, 114, 1700\n",
      "40, Human Resources, 203, 2400\n",
      "50, Shipping, 121, 1500\n",
      "60, IT, 103, 1400\n",
      "70, Public Relations, 204, 2700\n",
      "80, Sales, 145, 2500\n"
     ]
    }
   ],
   "source": [
    "import csv\n",
    "with open('departments.csv', newline='') as csvfile:\n",
    " data = csv.reader(csvfile, delimiter='\\t')\n",
    " for row in data:\n",
    "   print(', '.join(row))"
   ]
  },
  {
   "cell_type": "markdown",
   "id": "17e81c93-9035-493f-b76f-8e068e6999d4",
   "metadata": {},
   "source": [
    "3. Write a Python program to read a given CSV file as a list."
   ]
  },
  {
   "cell_type": "code",
   "execution_count": 7,
   "id": "db75ee2c-ec6c-4c26-a0fd-f18f9947845e",
   "metadata": {},
   "outputs": [
    {
     "name": "stdout",
     "output_type": "stream",
     "text": [
      "[['employ_id', 'first_name', 'last_name', 'email', 'phone_number', 'hire_date', 'job_id', 'salary', 'commission_pct', 'manager_id', 'department_id'], ['100', 'Steven', 'King', 'SKING', '515.123.4567', '1987-06-17', 'AD_PRES', '24000', '', '', '90'], ['101', 'Neena', 'Kochhar', 'NKOCHHAR', '515.123.4568', '1987-06-18', 'AD_VP', '17000', '', '100', '90'], ['102', 'Lex', 'De Haan', 'LDEHAAN', '515.123.4569', '1987-06-19', 'AD_VP', '17000', '', '100', '90'], ['103', 'Alexander', 'Hunold', 'AHUNOLD', '590.423.4567', '1987-06-20', 'IT_PROG', '9000', '', '102', '60'], ['104', 'Bruce', 'Ernst', 'BERNST', '590.423.4568', '1987-06-21', 'IT_PROG', '6000', '', '103', '60'], ['105', 'David', 'Austin', 'DAUSTIN', '590.423.4569', '1987-06-22', 'IT_PROG', '4800', '', '103', '60'], ['106', 'Valli', 'Pataballa', 'VPATABAL', '590.423.4560', '1987-06-23', 'IT_PROG', '4800', '', '103', '60'], ['107', 'Diana', 'Lorentz', 'DLORENTZ', '590.423.5567', '1987-06-24', 'IT_PROG', '4200', '', '103', '60'], ['108', 'Nancy', 'Greenberg', 'NGREENBE', '515.124.4569', '1987-06-25', 'FI_MGR', '12000', '', '101', '100'], ['109', 'Daniel', 'Faviet', 'DFAVIET', '515.124.4169', '1987-06-26', 'FI_ACCOUNT', '9000', '', '108', '100'], ['110', 'John', 'Chen', 'JCHEN', '515.124.4269', '1987-06-27', 'FI_ACCOUNT', '8200', '', '108', '100'], ['111', 'Ismael', 'Sciarra', 'ISCIARRA', '515.124.4369', '1987-06-28', 'FI_ACCOUNT', '7700', '', '108', '100'], ['112', 'Jose Manuel', 'Urman', 'JMURMAN', '515.124.4469', '1987-06-29', 'FI_ACCOUNT', '7800', '', '108', '100'], ['113', 'Luis', 'Popp', 'LPOPP', '515.124.4567', '1987-06-30', 'FI_ACCOUNT', '6900', '', '108', '100'], ['114', 'Den', 'Raphaely', 'DRAPHEAL', '515.127.4561', '1987-07-01', 'PU_MAN', '11000', '', '100', '30'], ['115', 'Alexander', 'Khoo', 'AKHOO', '515.127.4562', '1987-07-02', 'PU_CLERK', '3100', '', '114', '30'], ['116', 'Shelli', 'Baida', 'SBAIDA', '515.127.4563', '1987-07-03', 'PU_CLERK', '2900', '', '114', '30'], ['117', 'Sigal', 'Tobias', 'STOBIAS', '515.127.4564', '1987-07-04', 'PU_CLERK', '2800', '', '114', '30'], ['118', 'Guy', 'Himuro', 'GHIMURO', '515.127.4565', '1987-07-05', 'PU_CLERK', '2600', '', '114', '30'], ['119', 'Karen', 'Colmenares', 'KCOLMENA', '515.127.4566', '1987-07-06', 'PU_CLERK', '2500', '', '114', '30'], ['120', 'Matthew', 'Weiss', 'MWEISS', '650.123.1234', '1987-07-07', 'ST_MAN', '8000', '', '100', '50'], ['121', 'Adam', 'Fripp', 'AFRIPP', '650.123.2234', '1987-07-08', 'ST_MAN', '8200', '', '100', '50'], ['122', 'Payam', 'Kaufling', 'PKAUFLIN', '650.123.3234', '1987-07-09', 'ST_MAN', '7900', '', '100', '50'], ['123', 'Shanta', 'Vollman', 'SVOLLMAN', '650.123.4234', '1987-07-10', 'ST_MAN', '6500', '', '100', '50'], ['124', 'Kevin', 'Mourgos', 'KMOURGOS', '650.123.5234', '1987-07-11', 'ST_MAN', '5800', '', '100', '50'], ['125', 'Julia', 'Nayer', 'JNAYER', '650.124.1214', '1987-07-12', 'ST_CLERK', '3200', '', '120', '50'], ['126', 'Irene', 'Mikkilineni', 'IMIKKILI', '650.124.1224', '1987-07-13', 'ST_CLERK', '2700', '', '120', '50'], ['127', 'James', 'Landry', 'JLANDRY', '650.124.1334', '1987-07-14', 'ST_CLERK', '2400', '', '120', '50'], ['128', 'Steven', 'Markle', 'SMARKLE', '650.124.1434', '1987-07-15', 'ST_CLERK', '2200', '', '120', '50'], ['129', 'Laura', 'Bissot', 'LBISSOT', '650.124.5234', '1987-07-16', 'ST_CLERK', '3300', '', '121', '50'], ['130', 'Mozhe', 'Atkinson', 'MATKINSO', '650.124.6234', '1987-07-17', 'ST_CLERK', '2800', '', '121', '50'], ['131', 'James', 'Marlow', 'JAMRLOW', '650.124.7234', '1987-07-18', 'ST_CLERK', '2500', '', '121', '50'], ['132', 'TJ', 'Olson', 'TJOLSON', '650.124.8234', '1987-07-19', 'ST_CLERK', '2100', '', '121', '50'], ['133', 'Jason', 'Mallin', 'JMALLIN', '650.127.1934', '1987-07-20', 'ST_CLERK', '3300', '', '122', '50'], ['134', 'Michael', 'Rogers', 'MROGERS', '650.127.1834', '1987-07-21', 'ST_CLERK', '2900', '', '122', '50'], ['135', 'Ki', 'Gee', 'KGEE', '650.127.1734', '1987-07-22', 'ST_CLERK', '2400', '', '122', '50'], ['136', 'Hazel', 'Philtanker', 'HPHILTAN', '650.127.1634', '1987-07-23', 'ST_CLERK', '2200', '', '122', '50'], ['137', 'Renske', 'Ladwig', 'RLADWIG', '650.121.1234', '1987-07-24', 'ST_CLERK', '3600', '', '123', '50'], ['138', 'Stephen', 'Stiles', 'SSTILES', '650.121.2034', '1987-07-25', 'ST_CLERK', '3200', '', '123', '50'], ['139', 'John', 'Seo', 'JSEO', '650.121.2019', '1987-07-26', 'ST_CLERK', '2700', '', '123', '50'], ['140', 'Joshua', 'Patel', 'JPATEL', '650.121.1834', '1987-07-27', 'ST_CLERK', '2500', '', '123', '50'], ['141', 'Trenna', 'Rajs', 'TRAJS', '650.121.8009', '1987-07-28', 'ST_CLERK', '3500', '', '124', '50'], ['142', 'Curtis', 'Davies', 'CDAVIES', '650.121.2994', '1987-07-29', 'ST_CLERK', '3100', '', '124', '50'], ['143', 'Randall', 'Matos', 'RMATOS', '650.121.2874', '1987-07-30', 'ST_CLERK', '2600', '', '124', '50'], ['144', 'Peter', 'Vargas', 'PVARGAS', '650.121.2004', '1987-07-31', 'ST_CLERK', '2500', '', '124', '50'], ['145', 'John', 'Russell', 'JRUSSEL', '011.44.1344.429268', '1987-08-01', 'SA_MAN', '14000', '0.4', '100', '80'], ['146', 'Karen', 'Partners', 'KPARTNER', '011.44.1344.467268', '1987-08-02', 'SA_MAN', '13500', '0.3', '100', '80'], ['147', 'Alberto', 'Errazuriz', 'AERRAZUR', '011.44.1344.429278', '1987-08-03', 'SA_MAN', '12000', '0.3', '100', '80'], ['148', 'Gerald', 'Cambrault', 'GCAMBRAU', '011.44.1344.619268', '1987-08-04', 'SA_MAN', '11000', '0.3', '100', '80'], ['149', 'Eleni', 'Zlotkey', 'EZLOTKEY', '011.44.1344.429018', '1987-08-05', 'SA_MAN', '10500', '0.2', '100', '80'], ['150', 'Peter', 'Tucker', 'PTUCKER', '011.44.1344.129268', '1987-08-06', 'SA_REP', '10000', '0.3', '145', '80']]\n"
     ]
    }
   ],
   "source": [
    "import csv\n",
    "with open('employees.csv', newline='') as csvfile:\n",
    "   reader = csv.reader(csvfile)\n",
    "   data_list = list(reader)\n",
    "print(data_list)"
   ]
  },
  {
   "cell_type": "markdown",
   "id": "47408e85-683c-43df-948e-b49adf58e199",
   "metadata": {},
   "source": [
    "4. Write a Python program to read a given CSV file as a dictionary."
   ]
  },
  {
   "cell_type": "code",
   "execution_count": 8,
   "id": "5d18642d-c90e-4823-aa33-950a769469e9",
   "metadata": {},
   "outputs": [
    {
     "name": "stdout",
     "output_type": "stream",
     "text": [
      "CSV file as a dictionary:\n",
      "\n",
      "{'department_id': '10', ' department_name': ' Administration', '  manager_id': ' 200', '  location_id': ' 1700'}\n",
      "{'department_id': '20', ' department_name': ' Marketing', '  manager_id': ' 201', '  location_id': ' 1800'}\n",
      "{'department_id': '30', ' department_name': ' Purchasing', '  manager_id': ' 114', '  location_id': ' 1700'}\n",
      "{'department_id': '40', ' department_name': ' Human Resources', '  manager_id': ' 203', '  location_id': ' 2400'}\n",
      "{'department_id': '50', ' department_name': ' Shipping', '  manager_id': ' 121', '  location_id': ' 1500'}\n",
      "{'department_id': '60', ' department_name': ' IT', '  manager_id': ' 103', '  location_id': ' 1400'}\n",
      "{'department_id': '70', ' department_name': ' Public Relations', '  manager_id': ' 204', '  location_id': ' 2700'}\n",
      "{'department_id': '80', ' department_name': ' Sales', '  manager_id': ' 145', '  location_id': ' 2500'}\n"
     ]
    }
   ],
   "source": [
    "import csv\n",
    "data = csv.DictReader(open(\"departments.csv\"))\n",
    "print(\"CSV file as a dictionary:\\n\")\n",
    "for row in data:\n",
    "   print(row)"
   ]
  },
  {
   "cell_type": "markdown",
   "id": "71ec0775-81fe-4fc5-8eea-9a52414e9196",
   "metadata": {},
   "source": [
    "5. Write a Python program to read a given CSV files with initial spaces after a delimiter and remove those initial spaces."
   ]
  },
  {
   "cell_type": "code",
   "execution_count": 9,
   "id": "ecfac5ed-246b-4569-8248-daf299dbda39",
   "metadata": {},
   "outputs": [
    {
     "name": "stdout",
     "output_type": "stream",
     "text": [
      "\n",
      "With initial spaces after a delimiter:\n",
      "\n",
      "department_id,  department_name,   manager_id,   location_id\n",
      "10,  Administration,  200,  1700\n",
      "20,  Marketing,  201,  1800\n",
      "30,  Purchasing,  114,  1700\n",
      "40,  Human Resources,  203,  2400\n",
      "50,  Shipping,  121,  1500\n",
      "60,  IT,  103,  1400\n",
      "70,  Public Relations,  204,  2700\n",
      "80,  Sales,  145,  2500\n",
      "\n",
      "\n",
      "Without initial spaces after a delimiter:\n",
      "\n",
      "department_id, department_name, manager_id, location_id\n",
      "10, Administration, 200, 1700\n",
      "20, Marketing, 201, 1800\n",
      "30, Purchasing, 114, 1700\n",
      "40, Human Resources, 203, 2400\n",
      "50, Shipping, 121, 1500\n",
      "60, IT, 103, 1400\n",
      "70, Public Relations, 204, 2700\n",
      "80, Sales, 145, 2500\n"
     ]
    }
   ],
   "source": [
    "import csv\n",
    "print(\"\\nWith initial spaces after a delimiter:\\n\")\n",
    "with open('departments.csv', 'r') as csvfile:\n",
    "   data = csv.reader(csvfile, skipinitialspace=False)\n",
    "   for row in data:\n",
    "     print(', '.join(row))\n",
    "print(\"\\n\\nWithout initial spaces after a delimiter:\\n\")\n",
    "with open('departments.csv', 'r') as csvfile:\n",
    "   data = csv.reader(csvfile, skipinitialspace=True)\n",
    "   for row in data:\n",
    "     print(', '.join(row))"
   ]
  },
  {
   "cell_type": "markdown",
   "id": "8fe0e54f-b0ed-4d80-939a-d429e1586bc4",
   "metadata": {},
   "source": [
    "6. Write a Python program that reads a CSV file and remove initial spaces, quotes around each entry and the delimiter."
   ]
  },
  {
   "cell_type": "code",
   "execution_count": 11,
   "id": "dfa07822-6374-43be-8da3-4c100af015b4",
   "metadata": {},
   "outputs": [
    {
     "name": "stdout",
     "output_type": "stream",
     "text": [
      "['department_id, department_name,  manager_id,  location_id']\n",
      "['10, Administration, 200, 1700']\n",
      "['20, Marketing, 201, 1800']\n",
      "['30, Purchasing, 114, 1700']\n",
      "['40, Human Resources, 203, 2400']\n",
      "['50, Shipping, 121, 1500']\n",
      "['60, IT, 103, 1400']\n",
      "['70, Public Relations, 204, 2700']\n",
      "['80, Sales, 145, 2500']\n"
     ]
    }
   ],
   "source": [
    "import csv\n",
    "csv.register_dialect('csv_dialect',\n",
    "                    delimiter='|',\n",
    "                    skipinitialspace=True,\n",
    "                    quoting=csv.QUOTE_ALL)\n",
    "with open('departments.csv', 'r') as csvfile:\n",
    "   reader = csv.reader(csvfile, dialect='csv_dialect')\n",
    "   for row in reader:\n",
    "       print(row)"
   ]
  },
  {
   "cell_type": "markdown",
   "id": "25f19f93-4207-4a81-bf07-f6d182a3a35d",
   "metadata": {},
   "source": [
    "7. Write a Python program to read specific columns of a given CSV file and print the content of the columns."
   ]
  },
  {
   "cell_type": "code",
   "execution_count": 29,
   "id": "0be7001d-3ee6-413f-813b-b3ba74f1a704",
   "metadata": {},
   "outputs": [
    {
     "name": "stdout",
     "output_type": "stream",
     "text": [
      "CSV file as a dictionary:\n",
      "\n",
      "{'department_id': '10', ' department_name': ' Administration', '  manager_id': ' 200', '  location_id': ' 1700'}\n",
      "{'department_id': '20', ' department_name': ' Marketing', '  manager_id': ' 201', '  location_id': ' 1800'}\n",
      "{'department_id': '30', ' department_name': ' Purchasing', '  manager_id': ' 114', '  location_id': ' 1700'}\n",
      "{'department_id': '40', ' department_name': ' Human Resources', '  manager_id': ' 203', '  location_id': ' 2400'}\n",
      "{'department_id': '50', ' department_name': ' Shipping', '  manager_id': ' 121', '  location_id': ' 1500'}\n",
      "{'department_id': '60', ' department_name': ' IT', '  manager_id': ' 103', '  location_id': ' 1400'}\n",
      "{'department_id': '70', ' department_name': ' Public Relations', '  manager_id': ' 204', '  location_id': ' 2700'}\n",
      "{'department_id': '80', ' department_name': ' Sales', '  manager_id': ' 145', '  location_id': ' 2500'}\n",
      "ID Department Name\n",
      "---------------------------------\n",
      "10\n",
      "20\n",
      "30\n",
      "40\n",
      "50\n",
      "60\n",
      "70\n",
      "80\n"
     ]
    }
   ],
   "source": [
    "import csv\n",
    "data = csv.DictReader(open(\"departments.csv\"))\n",
    "print(\"CSV file as a dictionary:\\n\")\n",
    "for row in data:\n",
    "   print(row)\n",
    "\n",
    "import csv\n",
    "data = csv.DictReader(open(\"departments.csv\"))\n",
    "print(\"ID Department Name\")\n",
    "print(\"---------------------------------\")\n",
    "for row in data:\n",
    "    print(row['department_id'])\n"
   ]
  },
  {
   "cell_type": "markdown",
   "id": "3db5f67d-0ab6-431f-8647-5c512d5f0931",
   "metadata": {},
   "source": [
    "8. Write a Python program that reads each row of a given csv file and skip the header of the file. Also print the number of rows and the field names."
   ]
  },
  {
   "cell_type": "code",
   "execution_count": 30,
   "id": "aba2f3b1-6066-4cb6-8789-23d1d5f3bc52",
   "metadata": {},
   "outputs": [
    {
     "name": "stdout",
     "output_type": "stream",
     "text": [
      "10,, Administration,, 200,, 1700\n",
      "20,, Marketing,, 201,, 1800\n",
      "30,, Purchasing,, 114,, 1700\n",
      "40,, Human, Resources,, 203,, 2400\n",
      "50,, Shipping,, 121,, 1500\n",
      "60,, IT,, 103,, 1400\n",
      "70,, Public, Relations,, 204,, 2700\n",
      "80,, Sales,, 145,, 2500\n",
      "\n",
      "Total no. of rows: 9\n",
      "Field names are:\n",
      "department_id,, department_name,, , manager_id,, , location_id\n"
     ]
    }
   ],
   "source": [
    "import csv\n",
    "fields = []\n",
    "rows = []\n",
    "with open('departments.csv', newline='') as csvfile:\n",
    " data = csv.reader(csvfile, delimiter=' ', quotechar=',')\n",
    " # Following command skips the first row of the CSV file.\n",
    " fields = next(data)\n",
    " for row in data:\n",
    "   print(', '.join(row))\n",
    "print(\"\\nTotal no. of rows: %d\"%(data.line_num))\n",
    "print('Field names are:')\n",
    "print(', '.join(field for field in fields))"
   ]
  },
  {
   "cell_type": "markdown",
   "id": "1da70683-3730-4731-85ec-46c2f53c8fa1",
   "metadata": {},
   "source": [
    "9. Write a Python program to create an object for writing and iterate over the rows to print the values."
   ]
  },
  {
   "cell_type": "code",
   "execution_count": 31,
   "id": "cc1e8b9b-d1d1-4198-a038-bfcc4fcd5ca1",
   "metadata": {},
   "outputs": [
    {
     "name": "stdout",
     "output_type": "stream",
     "text": [
      "id1,id2,date\n",
      "\n",
      "1,a,01/01/2019\n",
      "\n",
      "2,b,01/02/2019\n",
      "\n",
      "3,c,01/03/2019\n",
      "\n",
      "\n"
     ]
    }
   ],
   "source": [
    "import csv\n",
    "import sys\n",
    "with open('temp.csv', 'wt') as f:\n",
    "    writer = csv.writer(f)\n",
    "    writer.writerow(('id1', 'id2', 'date'))\n",
    "    for i in range(3):\n",
    "        row = (\n",
    "            i + 1,\n",
    "            chr(ord('a') + i),\n",
    "            '01/{:02d}/2019'.format(i + 1),)\n",
    "        writer.writerow(row)\n",
    "print(open('temp.csv', 'rt').read())"
   ]
  },
  {
   "cell_type": "markdown",
   "id": "6833af4b-b11a-467b-8a33-8ba08e5e0c70",
   "metadata": {},
   "source": [
    "10. Write a Python program to write a Python list of lists to a csv file. After writing the CSV file read the CSV file and display the content."
   ]
  },
  {
   "cell_type": "code",
   "execution_count": 32,
   "id": "32619057-af00-4e87-9bb2-ae3a4aaa76b2",
   "metadata": {},
   "outputs": [
    {
     "name": "stdout",
     "output_type": "stream",
     "text": [
      "10,a1,1\n",
      "12,a2,3\n",
      "14,a3,5\n",
      "16,a4,7\n",
      "18,a5,9\n"
     ]
    }
   ],
   "source": [
    "import csv\n",
    "data = [[10,'a1', 1], [12,'a2', 3], [14, 'a3', 5], [16, 'a4', 7], [18, 'a5', 9]]\n",
    "with open(\"temp.csv\", \"w\", newline=\"\") as f:\n",
    "   writer = csv.writer(f)\n",
    "   writer.writerows(data)\n",
    "with open('temp.csv', newline='') as csvfile:\n",
    " data = csv.reader(csvfile, delimiter=' ')\n",
    " for row in data:\n",
    "   print(', '.join(row))"
   ]
  },
  {
   "cell_type": "markdown",
   "id": "b7e0503f-1762-4eeb-b436-a6b5d1970215",
   "metadata": {},
   "source": [
    "11. Write a Python program to write a Python dictionary to a csv file. After writing the CSV file read the CSV file and display the content."
   ]
  },
  {
   "cell_type": "code",
   "execution_count": 33,
   "id": "1f2f4aa6-2241-4520-8eaa-9bf0393c4eff",
   "metadata": {},
   "outputs": [
    {
     "name": "stdout",
     "output_type": "stream",
     "text": [
      "CSV file as a dictionary:\n",
      "\n",
      "{'id': \"['1', '2', '3']\", 'Column1': '[33, 25, 56]', 'Column2': '[35, 30, 30]', 'Column3': '[21, 40, 55]', 'Column4': '[71, 25, 55]', 'Column5': '[10, 10, 40]'}\n",
      "{'id': \"['1', '2', '3']\", 'Column1': '[33, 25, 56]', 'Column2': '[35, 30, 30]', 'Column3': '[21, 40, 55]', 'Column4': '[71, 25, 55]', 'Column5': '[10, 10, 40]'}\n",
      "{'id': \"['1', '2', '3']\", 'Column1': '[33, 25, 56]', 'Column2': '[35, 30, 30]', 'Column3': '[21, 40, 55]', 'Column4': '[71, 25, 55]', 'Column5': '[10, 10, 40]'}\n",
      "{'id': \"['1', '2', '3']\", 'Column1': '[33, 25, 56]', 'Column2': '[35, 30, 30]', 'Column3': '[21, 40, 55]', 'Column4': '[71, 25, 55]', 'Column5': '[10, 10, 40]'}\n",
      "{'id': \"['1', '2', '3']\", 'Column1': '[33, 25, 56]', 'Column2': '[35, 30, 30]', 'Column3': '[21, 40, 55]', 'Column4': '[71, 25, 55]', 'Column5': '[10, 10, 40]'}\n",
      "{'id': \"['1', '2', '3']\", 'Column1': '[33, 25, 56]', 'Column2': '[35, 30, 30]', 'Column3': '[21, 40, 55]', 'Column4': '[71, 25, 55]', 'Column5': '[10, 10, 40]'}\n"
     ]
    }
   ],
   "source": [
    "import csv\n",
    "csv_columns = ['id','Column1', 'Column2', 'Column3', 'Column4', 'Column5']\n",
    "dict_data = {'id':['1', '2', '3'],\n",
    "    'Column1':[33, 25, 56],\n",
    "    'Column2':[35, 30, 30],\n",
    "    'Column3':[21, 40, 55],\n",
    "    'Column4':[71, 25, 55],\n",
    "    'Column5':[10, 10, 40], }\n",
    "csv_file = \"temp.csv\"\n",
    "try:\n",
    "   with open(csv_file, 'w') as csvfile:\n",
    "       writer = csv.DictWriter(csvfile, fieldnames=csv_columns)\n",
    "       writer.writeheader()\n",
    "       for data in dict_data:\n",
    "           writer.writerow(dict_data)\n",
    "except IOError:\n",
    "   print(\"I/O error\")\n",
    "data = csv.DictReader(open(csv_file))\n",
    "print(\"CSV file as a dictionary:\\n\")\n",
    "for row in data:\n",
    "   print(row)"
   ]
  },
  {
   "cell_type": "markdown",
   "id": "183a84e2-6ed4-473d-b38a-470834d73298",
   "metadata": {},
   "source": [
    "1. Write a Python program to convert JSON data to Python object."
   ]
  },
  {
   "cell_type": "code",
   "execution_count": 35,
   "id": "d6378989-aeed-42a9-bce1-06516e2e8195",
   "metadata": {},
   "outputs": [
    {
     "name": "stdout",
     "output_type": "stream",
     "text": [
      "\n",
      "JSON data:\n",
      "{'Name': 'Alina', 'Class': 'I', 'Age': 23}\n",
      "\n",
      "Name:  Alina\n",
      "Class:  I\n",
      "Age:  23\n"
     ]
    }
   ],
   "source": [
    "import json\n",
    "json_obj =  '{ \"Name\":\"Alina\", \"Class\":\"I\", \"Age\":23 }'\n",
    "python_obj = json.loads(json_obj)\n",
    "print(\"\\nJSON data:\")\n",
    "print(python_obj)\n",
    "print(\"\\nName: \",python_obj[\"Name\"])\n",
    "print(\"Class: \",python_obj[\"Class\"])\n",
    "print(\"Age: \",python_obj[\"Age\"]) "
   ]
  },
  {
   "cell_type": "markdown",
   "id": "33720f7f-dd5f-4282-8ca5-0d1308e8edca",
   "metadata": {},
   "source": [
    "2. Write a Python program to convert Python object to JSON data."
   ]
  },
  {
   "cell_type": "code",
   "execution_count": 36,
   "id": "d2aae506-9c2f-47f1-bb68-9a5dfed160ad",
   "metadata": {},
   "outputs": [
    {
     "name": "stdout",
     "output_type": "stream",
     "text": [
      "<class 'dict'>\n",
      "{\"name\": \"Alina\", \"class\": \"I\", \"age\": 23}\n"
     ]
    }
   ],
   "source": [
    "import json\n",
    "# a Python object (dict):\n",
    "python_obj = {\n",
    "  \"name\": \"Alina\",\n",
    "  \"class\":\"I\",\n",
    "  \"age\": 23  \n",
    "}\n",
    "print(type(python_obj))\n",
    "# convert into JSON:\n",
    "j_data = json.dumps(python_obj)\n",
    "\n",
    "# result is a JSON string:\n",
    "print(j_data)"
   ]
  },
  {
   "cell_type": "markdown",
   "id": "2ebe9d7d-4884-4878-bdaa-a9714d428897",
   "metadata": {},
   "source": [
    "3. Write a Python program to convert Python objects into JSON strings. Print all the values."
   ]
  },
  {
   "cell_type": "code",
   "execution_count": 37,
   "id": "55c9c372-8386-4e80-a21d-63d5867a28c6",
   "metadata": {},
   "outputs": [
    {
     "name": "stdout",
     "output_type": "stream",
     "text": [
      "json dict :  {\"name\": \"Alina\", \"age\": 23, \"class\": \"I\"}\n",
      "jason list :  [\"Red\", \"White\", \"Black\"]\n",
      "json string :  \"Python Json\"\n",
      "json number1 :  12345678\n",
      "json number2 :  21.34567\n",
      "json true :  true\n",
      "json false :  false\n",
      "json null ;  null\n"
     ]
    }
   ],
   "source": [
    "import json\n",
    "python_dict =  {\"name\": \"Alina\", \"age\": 23, \"class\":\"I\"}\n",
    "python_list =  [\"Red\", \"White\", \"Black\"]\n",
    "python_str =  \"Python Json\"\n",
    "python_int =  (12345678)\n",
    "python_float =  (21.34567)\n",
    "python_T =  (True)\n",
    "python_F =  (False)\n",
    "python_N =  (None)\n",
    "\n",
    "json_dict = json.dumps(python_dict)\n",
    "json_list = json.dumps(python_list)\n",
    "json_str = json.dumps(python_str)\n",
    "json_num1 = json.dumps(python_int)\n",
    "json_num2 = json.dumps(python_float)\n",
    "json_t = json.dumps(python_T)\n",
    "json_f = json.dumps(python_F)\n",
    "json_n = json.dumps(python_N)\n",
    "\n",
    "print(\"json dict : \", json_dict)\n",
    "print(\"jason list : \", json_list)\n",
    "print(\"json string : \", json_str)\n",
    "print(\"json number1 : \", json_num1)\n",
    "print(\"json number2 : \", json_num2)\n",
    "print(\"json true : \", json_t)\n",
    "print(\"json false : \", json_f)\n",
    "print(\"json null ; \", json_n)"
   ]
  },
  {
   "cell_type": "markdown",
   "id": "31fe9264-92da-4e5a-9612-002809f9c978",
   "metadata": {},
   "source": [
    "4. Write a Python program to convert Python dictionary object (sort by key) to JSON data. Print the object members with indent level 4."
   ]
  },
  {
   "cell_type": "code",
   "execution_count": 38,
   "id": "05765947-d296-4cbd-bc5e-d965c35cddd2",
   "metadata": {},
   "outputs": [
    {
     "name": "stdout",
     "output_type": "stream",
     "text": [
      "Original String:\n",
      "{'4': 5, '6': 7, '1': 3, '2': 4}\n",
      "\n",
      "JSON data:\n",
      "{\n",
      "    \"1\": 3,\n",
      "    \"2\": 4,\n",
      "    \"4\": 5,\n",
      "    \"6\": 7\n",
      "}\n"
     ]
    }
   ],
   "source": [
    "import json\n",
    "j_str = {'4': 5, '6': 7, '1': 3, '2': 4}\n",
    "print(\"Original String:\")\n",
    "print(j_str)\n",
    "print(\"\\nJSON data:\")\n",
    "print(json.dumps(j_str, sort_keys=True, indent=4))"
   ]
  },
  {
   "cell_type": "markdown",
   "id": "72d9366a-d5e9-468e-9ab6-433ec482880a",
   "metadata": {},
   "source": [
    "5. Write a Python program to convert JSON encoded data into Python objects."
   ]
  },
  {
   "cell_type": "code",
   "execution_count": 39,
   "id": "431637ba-9060-41b8-a23f-60534e376d94",
   "metadata": {},
   "outputs": [
    {
     "name": "stdout",
     "output_type": "stream",
     "text": [
      "Python dictionary:  {'name': 'Alina', 'age': 23, 'class': 'I'}\n",
      "Python list:  ['Red', 'White', 'Black']\n",
      "Python string:  Python Json\n",
      "Python integer:  12345678\n",
      "Python float:  21.345677\n"
     ]
    }
   ],
   "source": [
    "import json\n",
    "\n",
    "jobj_dict =  '{\"name\": \"Alina\", \"age\": 23, \"class\": \"I\"}'\n",
    "jobj_list =   '[\"Red\", \"White\", \"Black\"]'\n",
    "jobj_string = '\"Python Json\"'\n",
    "jobj_int = '12345678'\n",
    "jobj_float =  '21.345677'\n",
    "python_dict =  json.loads(jobj_dict)\n",
    "python_list = json.loads(jobj_list)\n",
    "python_str =  json.loads(jobj_string)\n",
    "python_int =   json.loads(jobj_int)\n",
    "python_float = json.loads(jobj_float)\n",
    "\n",
    "print(\"Python dictionary: \", python_dict)\n",
    "print(\"Python list: \", python_list)\n",
    "print(\"Python string: \", python_str)\n",
    "print(\"Python integer: \", python_int)\n",
    "print(\"Python float: \", python_float)"
   ]
  },
  {
   "cell_type": "markdown",
   "id": "effee119-d8fb-45c9-84cc-067b666d1d6d",
   "metadata": {},
   "source": [
    "7. Write a Python program to check whether an instance is complex or not."
   ]
  },
  {
   "cell_type": "code",
   "execution_count": 41,
   "id": "300a1fa7-ab89-4f01-a48b-648ba8aaadbc",
   "metadata": {},
   "outputs": [
    {
     "name": "stdout",
     "output_type": "stream",
     "text": [
      "[2.0, 3.0]\n"
     ]
    }
   ],
   "source": [
    "import json\n",
    "\n",
    "def encode_complex(object):\n",
    "    # check using isinstance method\n",
    "    if isinstance(object, complex):\n",
    "        return [object.real, object.imag]\n",
    "    # raised error if object is not complex\n",
    "    raise TypeError(repr(object) + \" is not JSON serialized\")\n",
    "\n",
    "complex_obj = json.dumps(2 + 3j, default=encode_complex)\n",
    "print(complex_obj) "
   ]
  },
  {
   "cell_type": "markdown",
   "id": "1ad76883-f2d7-4af6-bb52-778f8094b241",
   "metadata": {},
   "source": [
    "8. Write a Python program to check whether a JSON string contains complex object or not."
   ]
  },
  {
   "cell_type": "code",
   "execution_count": 42,
   "id": "3e2a15f9-4508-4ac6-8c71-68fb9d630fa2",
   "metadata": {},
   "outputs": [
    {
     "name": "stdout",
     "output_type": "stream",
     "text": [
      "Complex_object:  (4+5j)\n",
      "Without complex object:  {'real': 4, 'img': 3}\n"
     ]
    }
   ],
   "source": [
    "import json\n",
    "def is_complex_num(objct):\n",
    "    if '__complex__' in objct:\n",
    "        return complex(objct['real'], objct['img'])\n",
    "    return objct\n",
    "\n",
    "complex_object =json.loads('{\"__complex__\": true, \"real\": 4, \"img\": 5}', object_hook = is_complex_num)\n",
    "simple_object =json.loads('{\"real\": 4, \"img\": 3}', object_hook = is_complex_num)\n",
    "print(\"Complex_object: \",complex_object)\n",
    "print(\"Without complex object: \",simple_object)"
   ]
  },
  {
   "cell_type": "markdown",
   "id": "3acbcde0-c69e-4c32-9dec-dae7831b42ad",
   "metadata": {},
   "source": [
    "9. Write a Python program to access only unique key value of a Python object."
   ]
  },
  {
   "cell_type": "code",
   "execution_count": 43,
   "id": "5d4334d1-e4d7-4763-9f3d-c20199ffd215",
   "metadata": {},
   "outputs": [
    {
     "name": "stdout",
     "output_type": "stream",
     "text": [
      "Original Python object:\n",
      "{\"a\":  1, \"a\":  2, \"a\":  3, \"a\": 4, \"b\": 1, \"b\": 2}\n",
      "\n",
      "Unique Key in a JSON object:\n",
      "{'a': 4, 'b': 2}\n"
     ]
    }
   ],
   "source": [
    "import json\n",
    "python_obj = '{\"a\":  1, \"a\":  2, \"a\":  3, \"a\": 4, \"b\": 1, \"b\": 2}'\n",
    "print(\"Original Python object:\")\n",
    "print(python_obj)\n",
    "json_obj = json.loads(python_obj)\n",
    "print(\"\\nUnique Key in a JSON object:\")\n",
    "print(json_obj) "
   ]
  },
  {
   "cell_type": "code",
   "execution_count": null,
   "id": "639b57f7-ba76-431f-9d4c-bd0b9e74d599",
   "metadata": {},
   "outputs": [],
   "source": []
  }
 ],
 "metadata": {
  "kernelspec": {
   "display_name": "Python 3 (ipykernel)",
   "language": "python",
   "name": "python3"
  },
  "language_info": {
   "codemirror_mode": {
    "name": "ipython",
    "version": 3
   },
   "file_extension": ".py",
   "mimetype": "text/x-python",
   "name": "python",
   "nbconvert_exporter": "python",
   "pygments_lexer": "ipython3",
   "version": "3.12.0"
  }
 },
 "nbformat": 4,
 "nbformat_minor": 5
}
