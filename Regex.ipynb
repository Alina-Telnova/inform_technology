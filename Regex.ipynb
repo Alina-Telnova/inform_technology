{
  "nbformat": 4,
  "nbformat_minor": 0,
  "metadata": {
    "colab": {
      "provenance": [],
      "authorship_tag": "ABX9TyPPVNYW47G93ukCQAwcVJOo",
      "include_colab_link": true
    },
    "kernelspec": {
      "name": "python3",
      "display_name": "Python 3"
    },
    "language_info": {
      "name": "python"
    }
  },
  "cells": [
    {
      "cell_type": "markdown",
      "metadata": {
        "id": "view-in-github",
        "colab_type": "text"
      },
      "source": [
        "<a href=\"https://colab.research.google.com/github/Alina-Telnova/inform_technology/blob/main/Regex.ipynb\" target=\"_parent\"><img src=\"https://colab.research.google.com/assets/colab-badge.svg\" alt=\"Open In Colab\"/></a>"
      ]
    },
    {
      "cell_type": "markdown",
      "source": [
        "Task 1"
      ],
      "metadata": {
        "id": "G2xAMmzz9U5n"
      }
    },
    {
      "cell_type": "code",
      "execution_count": 1,
      "metadata": {
        "colab": {
          "base_uri": "https://localhost:8080/"
        },
        "id": "RJTUAdnR9P1U",
        "outputId": "0751c466-388a-4235-a26f-196c5dde0cff"
      },
      "outputs": [
        {
          "output_type": "stream",
          "name": "stdout",
          "text": [
            "['Hello', 'Regex', 'Python']\n"
          ]
        }
      ],
      "source": [
        "import re\n",
        "\n",
        "text = \"Hello world, this is a Regex example with Python.\"\n",
        "capital_words = re.findall(r'\\b[A-Z][a-z]*\\b', text)\n",
        "print(capital_words)\n"
      ]
    },
    {
      "cell_type": "markdown",
      "source": [
        "Task 2"
      ],
      "metadata": {
        "id": "JWFSS_5W9sxG"
      }
    },
    {
      "cell_type": "code",
      "source": [
        "import re\n",
        "\n",
        "text = \"This is a test. This is only a test.\"\n",
        "new_text = re.sub(r'\\bis\\b', 'was', text)\n",
        "print(new_text)\n"
      ],
      "metadata": {
        "colab": {
          "base_uri": "https://localhost:8080/"
        },
        "id": "1hgNUvyw9uZL",
        "outputId": "def051a4-491c-41ea-8fad-89b294085f51"
      },
      "execution_count": 2,
      "outputs": [
        {
          "output_type": "stream",
          "name": "stdout",
          "text": [
            "This was a test. This was only a test.\n"
          ]
        }
      ]
    },
    {
      "cell_type": "markdown",
      "source": [
        "Task 3"
      ],
      "metadata": {
        "id": "XgbSlpk999kE"
      }
    },
    {
      "cell_type": "code",
      "source": [
        "import re\n",
        "\n",
        "text = \"\"\"\n",
        "Visit https://www.example.com or follow http://example.org.\n",
        "You can also check out https://another-example.com/path?arg=val for more details.\n",
        "\"\"\"\n",
        "\n",
        "urls = re.findall(r'https?://[^\\s]+', text)\n",
        "print(urls)\n"
      ],
      "metadata": {
        "colab": {
          "base_uri": "https://localhost:8080/"
        },
        "id": "y3USKksy9_Pe",
        "outputId": "21c83fc6-32f6-42bb-f16c-62f56443832d"
      },
      "execution_count": 3,
      "outputs": [
        {
          "output_type": "stream",
          "name": "stdout",
          "text": [
            "['https://www.example.com', 'http://example.org.', 'https://another-example.com/path?arg=val']\n"
          ]
        }
      ]
    },
    {
      "cell_type": "markdown",
      "source": [
        "Task 4"
      ],
      "metadata": {
        "id": "_z62OBIR-MgI"
      }
    },
    {
      "cell_type": "code",
      "source": [
        "import re\n",
        "\n",
        "text = 'Loving the #sunset and #nature! #beautiful_day'\n",
        "\n",
        "hastag = re.findall(r'#\\w+', text)\n",
        "print(hastag)\n"
      ],
      "metadata": {
        "colab": {
          "base_uri": "https://localhost:8080/"
        },
        "id": "yJ0z5pRL-N9P",
        "outputId": "181edef4-1328-45e4-a9f5-7f60e8ced337"
      },
      "execution_count": 4,
      "outputs": [
        {
          "output_type": "stream",
          "name": "stdout",
          "text": [
            "['#sunset', '#nature', '#beautiful_day']\n"
          ]
        }
      ]
    },
    {
      "cell_type": "markdown",
      "source": [
        "Task 5"
      ],
      "metadata": {
        "id": "gMmvGJP8-SWA"
      }
    },
    {
      "cell_type": "code",
      "source": [
        "import re\n",
        "\n",
        "text = \"This is is a test test string.\"\n",
        "clean_text = re.sub(r'\\b(\\w+)\\s+\\1\\b', r'\\1', text)\n",
        "print(clean_text)\n"
      ],
      "metadata": {
        "colab": {
          "base_uri": "https://localhost:8080/"
        },
        "id": "UcGxwxz8-Tjq",
        "outputId": "d870d62e-f3ff-4646-93cd-c7174c201689"
      },
      "execution_count": 5,
      "outputs": [
        {
          "output_type": "stream",
          "name": "stdout",
          "text": [
            "This is a test string.\n"
          ]
        }
      ]
    }
  ]
}